{
 "cells": [
  {
   "cell_type": "code",
   "execution_count": 70,
   "metadata": {},
   "outputs": [],
   "source": [
    "import matplotlib.pyplot as plt\n",
    "import numpy as np\n",
    "import sympy as sp\n",
    "import pandas as pd\n",
    "from IPython.display import Image, display, Math\n",
    "from PIL import Image as ImagePIL"
   ]
  },
  {
   "cell_type": "markdown",
   "metadata": {},
   "source": [
    "First of all, we derive the DH-table to then get the roation matrices:\n",
    "| **Joint (i)** | **θᵢ**   | **dᵢ**   | **aᵢ₋₁** | **αᵢ₋₁** |\n",
    "|---------------|----------|----------|----------|----------|\n",
    "| 1             | $\\theta_1$       | 0        | 0        | 0        |\n",
    "| 2             | $\\theta_2$       | 0        | $L3$| 0        |\n",
    "| 3             | $\\theta_3$       | 0        | $L_1$| 0        |\n",
    "| 4             | $\\theta_4$       | 0        | $L2$| 0        |\n",
    "| EE             | 0       | 0        | $5.221$| 0        |"
   ]
  },
  {
   "cell_type": "code",
   "execution_count": 23,
   "metadata": {},
   "outputs": [],
   "source": [
    "L1 = 2.194\n",
    "L2 = 2.186\n",
    "L4 = 6.196\n",
    "M3 = 0.1\n",
    "M4 = 0.1"
   ]
  },
  {
   "cell_type": "code",
   "execution_count": 24,
   "metadata": {},
   "outputs": [],
   "source": [
    "# Function for deriving the Transformation Matrix\n",
    "def transformation_matrix(theta, d, a, alpha):\n",
    "    return sp.Matrix([\n",
    "        [sp.cos(theta), -sp.sin(theta), 0, a],\n",
    "        [sp.sin(theta) * sp.cos(alpha), sp.cos(theta) * sp.cos(alpha), -sp.sin(alpha), -sp.sin(alpha) * d],\n",
    "        [sp.sin(theta) * sp.sin(alpha), sp.cos(theta) * sp.sin(alpha), sp.cos(alpha), sp.cos(alpha) * d],\n",
    "        [0, 0, 0, 1]\n",
    "    ])"
   ]
  },
  {
   "cell_type": "code",
   "execution_count": 25,
   "metadata": {},
   "outputs": [],
   "source": [
    "# Create symbolic variables of the lengths and thetas with the thetas are a function of the time.\n",
    "t= sp.symbols(\"t\")\n",
    "theta1 = sp.Function('theta_1')(t)\n",
    "theta2 = sp.Function('theta_2')(t)\n",
    "theta3 = sp.Function('theta_3')(t)\n",
    "theta4 = sp.Function('theta_4')(t)\n",
    "theta1_dot = sp.Derivative(theta1, t)\n",
    "theta2_dot = sp.Derivative(theta2, t)\n",
    "theta3_dot = sp.Derivative(theta3, t)\n",
    "theta4_dot = sp.Derivative(theta4, t)\n",
    "theta1_ddot = sp.Derivative(theta1, t, t)\n",
    "theta2_ddot = sp.Derivative(theta2, t, t)\n",
    "theta3_ddot = sp.Derivative(theta3, t, t)\n",
    "theta4_ddot = sp.Derivative(theta4, t, t)"
   ]
  },
  {
   "cell_type": "code",
   "execution_count": 26,
   "metadata": {},
   "outputs": [],
   "source": [
    "T03 = transformation_matrix(theta3, 0, L1, 0)\n",
    "T34 = transformation_matrix(theta4, 0, L2, 0)\n",
    "T4EE = transformation_matrix(0, 0, L4, 0)\n",
    "\n",
    "T04 = T03 * T34\n",
    "T0EE = T04 * T4EE\n",
    "\n",
    "R03 = T03[:3, :3]\n",
    "R34 = T34[:3, :3]\n"
   ]
  },
  {
   "cell_type": "code",
   "execution_count": 27,
   "metadata": {},
   "outputs": [],
   "source": [
    "w0 = sp.Matrix([0, 0, 0])\n",
    "w3 = R03.T * w0 + sp.Matrix([0, 0, theta3_dot])\n",
    "w4 = R34.T * w3 + sp.Matrix([0, 0, theta4_dot])"
   ]
  },
  {
   "cell_type": "code",
   "execution_count": 28,
   "metadata": {},
   "outputs": [],
   "source": [
    "# Postion Coordinates from base frame to the corresponding center of mass\n",
    "P_c3 = (T03 * sp.Matrix([L2/2, 0, 0, 1]))[:3, :]\n",
    "P_c4 = (T04 * sp.Matrix([L4/2, 0, 0, 1]))[:3, :]"
   ]
  },
  {
   "cell_type": "code",
   "execution_count": 29,
   "metadata": {},
   "outputs": [],
   "source": [
    "v_c3 = P_c3.diff(t)\n",
    "v_c4 = P_c4.diff(t)"
   ]
  },
  {
   "cell_type": "code",
   "execution_count": 30,
   "metadata": {},
   "outputs": [],
   "source": [
    "I_c3 = sp.Matrix([\n",
    "    [1/12 * M3 * L2**2, 0, 0],\n",
    "    [0, 1/12 * M3 * L2**2, 0],\n",
    "    [0, 0, 0]\n",
    "])\n",
    "\n",
    "I_c4 = sp.Matrix([\n",
    "    [1/12 * M4 * L4**2, 0, 0],\n",
    "    [0, 1/12 * M4 * L4**2, 0],\n",
    "    [0, 0, 0]\n",
    "])"
   ]
  },
  {
   "cell_type": "code",
   "execution_count": 31,
   "metadata": {},
   "outputs": [],
   "source": [
    "k_c3 = 0.5 * M3 * v_c3.T * v_c3 + 0.5 * w3.T * I_c3 * w3\n",
    "k_c4 = 0.5 * M4 * v_c4.T * v_c4 + 0.5 * w4.T * I_c4 * w4\n",
    "\n",
    "# Total Kinetic Energy:\n",
    "K = k_c3 + k_c3"
   ]
  },
  {
   "cell_type": "code",
   "execution_count": 32,
   "metadata": {},
   "outputs": [],
   "source": [
    "# We assume that the gravity act in negative y-direction of the base frame\n",
    "g_vec = sp.Matrix([0, -9.81, 0])\n",
    "\n",
    "# Potential energies:\n",
    "u_3 = -M3 * g_vec.T * P_c3\n",
    "u_4 = -M4 * g_vec.T * P_c4\n",
    "\n",
    "# Total Potential Energy:\n",
    "U = u_3 + u_4"
   ]
  },
  {
   "cell_type": "code",
   "execution_count": 33,
   "metadata": {},
   "outputs": [],
   "source": [
    "# Potential Energy derivates\n",
    "U_diff_theta1 = U.diff(theta1)\n",
    "U_diff_theta3 = U.diff(theta3)\n",
    "\n",
    "# Kinetic Energy derivates\n",
    "K_diff_theta1 = K.diff(theta1)\n",
    "K_diff_theta3 = K.diff(theta3)\n",
    "\n",
    "# Kinetic Energy time derivates\n",
    "# First differentiate wrt. the derivates of the thetas: theta_dots\n",
    "K_diff_theta1_dot = K.diff(theta1_dot)\n",
    "K_diff_theta3_dot = K.diff(theta3_dot)\n",
    "# Now differentiate wrt. time: t\n",
    "K_diff_theta1_dot_diff_t = K_diff_theta1_dot.diff(t)\n",
    "K_diff_theta3_dot_diff_t = K_diff_theta3_dot.diff(t)"
   ]
  },
  {
   "cell_type": "code",
   "execution_count": 34,
   "metadata": {},
   "outputs": [],
   "source": [
    "tau = sp.Matrix([K_diff_theta1_dot_diff_t - K_diff_theta1 + U_diff_theta1\n",
    "                 , K_diff_theta3_dot_diff_t - K_diff_theta3 + U_diff_theta3])"
   ]
  },
  {
   "cell_type": "markdown",
   "metadata": {},
   "source": [
    "------------------------------------"
   ]
  },
  {
   "cell_type": "markdown",
   "metadata": {},
   "source": [
    "| **Joint (i)** | **θᵢ**   | **dᵢ**   | **aᵢ₋₁** | **αᵢ₋₁** |\n",
    "|---------------|----------|----------|----------|----------|\n",
    "| EE             | $\\theta_{EE}$       | 0        | 0        | 0        |\n",
    "| 4             | $\\theta_4$       | 0        | L4        | 0        |\n",
    "| 3             | $\\theta_3$       | 0        | L2        | 0        |"
   ]
  },
  {
   "cell_type": "code",
   "execution_count": 49,
   "metadata": {},
   "outputs": [],
   "source": [
    "L1 = 2.194\n",
    "L2 = 2.186\n",
    "L4 = 6.196\n",
    "LCG = 5\n",
    "Lx, Ly, Lz = 20, 10, 20\n",
    "M = 3\n",
    "M2 = 0.1\n",
    "M4 = 0.1"
   ]
  },
  {
   "cell_type": "code",
   "execution_count": 50,
   "metadata": {},
   "outputs": [],
   "source": [
    "# Create symbolic variables of the lengths and thetas with the thetas are a function of the time.\n",
    "t= sp.symbols(\"t\")\n",
    "thetaEE = sp.Function('theta_EE')(t)\n",
    "theta3 = sp.Function('theta_3')(t)\n",
    "theta4 = sp.Function('theta_4')(t)\n",
    "thetaEE_dot = sp.Derivative(thetaEE, t)\n",
    "theta3_dot = sp.Derivative(theta3, t)\n",
    "theta4_dot = sp.Derivative(theta4, t)\n",
    "thetaEE_ddot = sp.Derivative(thetaEE, t, t)\n",
    "theta3_ddot = sp.Derivative(theta3, t, t)\n",
    "theta4_ddot = sp.Derivative(theta4, t, t)"
   ]
  },
  {
   "cell_type": "code",
   "execution_count": 51,
   "metadata": {},
   "outputs": [],
   "source": [
    "T0EE = transformation_matrix(thetaEE, 0, 0, 0)\n",
    "TEE4 = transformation_matrix(theta4, 0, L4, 0)\n",
    "T43 = transformation_matrix(theta3, 0, L2, 0)\n",
    "\n",
    "T04 = T0EE * TEE4\n",
    "T03 = T04 * T43\n",
    "\n",
    "R_0EE = T0EE[:3, :3]\n",
    "R_EE4 = TEE4[:3, :3]\n",
    "R_43 = T43[:3, :3]"
   ]
  },
  {
   "cell_type": "code",
   "execution_count": 52,
   "metadata": {},
   "outputs": [],
   "source": [
    "w_0 = sp.Matrix([0, 0, 0])\n",
    "w_EE = R_0EE.T * w_0 + sp.Matrix([0, 0, thetaEE_dot])\n",
    "w_4 = R_EE4.T * w_EE + sp.Matrix([0, 0, theta4_dot])\n",
    "w_3 = R_43.T * w_4 + sp.Matrix([0, 0, theta3_dot])"
   ]
  },
  {
   "cell_type": "code",
   "execution_count": 53,
   "metadata": {},
   "outputs": [],
   "source": [
    "P_cEE = (T0EE * sp.Matrix([L4/2, 0, 0, 1]))[:3, :]\n",
    "P_c4 = (T04 * sp.Matrix([L2/2, 0, 0, 1]))[:3, :]\n",
    "P_c3 = (T03 * sp.Matrix([LCG, 0, 0, 1]))[:3, :]"
   ]
  },
  {
   "cell_type": "code",
   "execution_count": 54,
   "metadata": {},
   "outputs": [],
   "source": [
    "v_cEE = P_cEE.diff(t)\n",
    "v_c4 = P_c4.diff(t)\n",
    "v_c3 = P_c3.diff(t)"
   ]
  },
  {
   "cell_type": "code",
   "execution_count": 55,
   "metadata": {},
   "outputs": [],
   "source": [
    "I_cEE = sp.Matrix([\n",
    "    [1/12 * M4 * L4**2, 0, 0],\n",
    "    [0, 1/12 * M4 * L4**2, 0],\n",
    "    [0, 0, 0]\n",
    "])\n",
    "\n",
    "I_c4 = sp.Matrix([\n",
    "    [1/12 * M2 * L2**2, 0, 0],\n",
    "    [0, 1/12 * M2 * L2**2, 0],\n",
    "    [0, 0, 0]\n",
    "])\n",
    "\n",
    "Ixx = (1/12) * M * (Ly**2 + Lz**2)\n",
    "Iyy = (1/12) * M * (Lx**2 + Lz**2)\n",
    "Izz = (1/12) * M * (Lx**2 + Ly**2)\n",
    "I_c = sp.Matrix([\n",
    "    [Ixx, 0, 0],\n",
    "    [0, Iyy, 0],\n",
    "    [0, 0, Izz]\n",
    "])"
   ]
  },
  {
   "cell_type": "code",
   "execution_count": 56,
   "metadata": {},
   "outputs": [],
   "source": [
    "k_cEE = 0.5 * M4 * v_cEE.T * v_cEE + 0.5 * w_EE.T * I_cEE * w_EE\n",
    "k_c4 = 0.5 * M2 * v_c4.T * v_c4 + 0.5 * w_4.T * I_c4 * w_4\n",
    "k_c3 = 0.5 * M * v_c3.T * v_c3 + 0.5 * w_3.T * I_c3 * w_3\n",
    "\n",
    "# Total Kinetic Energy:\n",
    "K = k_cEE + k_c4 + k_c3"
   ]
  },
  {
   "cell_type": "code",
   "execution_count": 57,
   "metadata": {},
   "outputs": [],
   "source": [
    "# We assume that the gravity act in negative y-direction of the base frame\n",
    "g_vec = sp.Matrix([0, -g, 0])\n",
    "\n",
    "# Potential energies:\n",
    "u_EE = -M4 * g_vec.T * P_cEE\n",
    "u_4 = -M2 * g_vec.T * P_c4\n",
    "u_3 = -M * g_vec.T * P_c3\n",
    "\n",
    "# Total Potential Energy:\n",
    "U = u_EE + u_4 + u_3"
   ]
  },
  {
   "cell_type": "code",
   "execution_count": 58,
   "metadata": {},
   "outputs": [],
   "source": [
    "# Potential Energy derivates\n",
    "U_diff_thetaEE = U.diff(thetaEE)\n",
    "U_diff_theta4 = U.diff(theta4)\n",
    "U_diff_theta3 = U.diff(theta3)\n",
    "\n",
    "# Kinetic Energy derivates\n",
    "K_diff_thetaEE = K.diff(thetaEE)\n",
    "K_diff_theta4 = K.diff(theta4)\n",
    "K_diff_theta3 = K.diff(theta3)\n",
    "\n",
    "# Kinetic Energy time derivates\n",
    "# First differentiate wrt. the derivates of the thetas: theta_dots\n",
    "K_diff_thetaEE_dot = K.diff(thetaEE_dot)\n",
    "K_diff_theta4_dot = K.diff(theta4_dot)\n",
    "K_diff_theta3_dot = K.diff(theta3_dot)\n",
    "# Now differentiate wrt. time: t\n",
    "K_diff_thetaEE_dot_diff_t = K_diff_thetaEE_dot.diff(t)\n",
    "K_diff_theta4_dot_diff_t = K_diff_theta4_dot.diff(t)\n",
    "K_diff_theta3_dot_diff_t = K_diff_theta3_dot.diff(t)\n"
   ]
  },
  {
   "cell_type": "code",
   "execution_count": 68,
   "metadata": {},
   "outputs": [],
   "source": [
    "tau = sp.Matrix([K_diff_thetaEE_dot_diff_t - K_diff_thetaEE + U_diff_thetaEE\n",
    "                 , K_diff_theta4_dot_diff_t - K_diff_theta4 + U_diff_theta4\n",
    "                 , K_diff_theta3_dot_diff_t - K_diff_theta3 + U_diff_theta3])\n",
    "tau = tau.applyfunc(sp.simplify)"
   ]
  },
  {
   "cell_type": "code",
   "execution_count": 69,
   "metadata": {},
   "outputs": [
    {
     "data": {
      "text/latex": [
       "$\\displaystyle \\left[\\begin{matrix}6.6673 g \\cos{\\left(\\theta_{4}{\\left(t \\right)} + \\theta_{EE}{\\left(t \\right)} \\right)} + 15.0 g \\cos{\\left(\\theta_{3}{\\left(t \\right)} + \\theta_{4}{\\left(t \\right)} + \\theta_{EE}{\\left(t \\right)} \\right)} + 19.5174 g \\cos{\\left(\\theta_{EE}{\\left(t \\right)} \\right)} - 92.94 \\sin{\\left(\\theta_{3}{\\left(t \\right)} + \\theta_{4}{\\left(t \\right)} \\right)} \\left(\\frac{d}{d t} \\theta_{3}{\\left(t \\right)}\\right)^{2} - 185.88 \\sin{\\left(\\theta_{3}{\\left(t \\right)} + \\theta_{4}{\\left(t \\right)} \\right)} \\frac{d}{d t} \\theta_{3}{\\left(t \\right)} \\frac{d}{d t} \\theta_{4}{\\left(t \\right)} - 185.88 \\sin{\\left(\\theta_{3}{\\left(t \\right)} + \\theta_{4}{\\left(t \\right)} \\right)} \\frac{d}{d t} \\theta_{3}{\\left(t \\right)} \\frac{d}{d t} \\theta_{EE}{\\left(t \\right)} - 92.94 \\sin{\\left(\\theta_{3}{\\left(t \\right)} + \\theta_{4}{\\left(t \\right)} \\right)} \\left(\\frac{d}{d t} \\theta_{4}{\\left(t \\right)}\\right)^{2} - 185.88 \\sin{\\left(\\theta_{3}{\\left(t \\right)} + \\theta_{4}{\\left(t \\right)} \\right)} \\frac{d}{d t} \\theta_{4}{\\left(t \\right)} \\frac{d}{d t} \\theta_{EE}{\\left(t \\right)} + 2.22044604925031 \\cdot 10^{-16} \\sin{\\left(\\theta_{4}{\\left(t \\right)} - 2 \\theta_{EE}{\\left(t \\right)} \\right)} \\left(\\frac{d}{d t} \\theta_{4}{\\left(t \\right)}\\right)^{2} + 4.44089209850063 \\cdot 10^{-16} \\sin{\\left(\\theta_{4}{\\left(t \\right)} - 2 \\theta_{EE}{\\left(t \\right)} \\right)} \\frac{d}{d t} \\theta_{4}{\\left(t \\right)} \\frac{d}{d t} \\theta_{EE}{\\left(t \\right)} + 1.77635683940025 \\cdot 10^{-15} \\sin{\\left(\\theta_{4}{\\left(t \\right)} - 2 \\theta_{EE}{\\left(t \\right)} \\right)} \\left(\\frac{d}{d t} \\theta_{EE}{\\left(t \\right)}\\right)^{2} - 2.22044604925031 \\cdot 10^{-16} \\sin{\\left(\\theta_{4}{\\left(t \\right)} + 2 \\theta_{EE}{\\left(t \\right)} \\right)} \\left(\\frac{d}{d t} \\theta_{4}{\\left(t \\right)}\\right)^{2} - 4.44089209850063 \\cdot 10^{-16} \\sin{\\left(\\theta_{4}{\\left(t \\right)} + 2 \\theta_{EE}{\\left(t \\right)} \\right)} \\frac{d}{d t} \\theta_{4}{\\left(t \\right)} \\frac{d}{d t} \\theta_{EE}{\\left(t \\right)} - 2.66453525910038 \\cdot 10^{-15} \\sin{\\left(\\theta_{4}{\\left(t \\right)} + 2 \\theta_{EE}{\\left(t \\right)} \\right)} \\left(\\frac{d}{d t} \\theta_{EE}{\\left(t \\right)}\\right)^{2} - 6.24500451351651 \\cdot 10^{-16} \\sin{\\left(2 \\theta_{4}{\\left(t \\right)} + 2 \\theta_{EE}{\\left(t \\right)} \\right)} \\left(\\frac{d}{d t} \\theta_{4}{\\left(t \\right)}\\right)^{2} - 1.2490009027033 \\cdot 10^{-15} \\sin{\\left(2 \\theta_{4}{\\left(t \\right)} + 2 \\theta_{EE}{\\left(t \\right)} \\right)} \\frac{d}{d t} \\theta_{4}{\\left(t \\right)} \\frac{d}{d t} \\theta_{EE}{\\left(t \\right)} - 6.24500451351651 \\cdot 10^{-16} \\sin{\\left(2 \\theta_{4}{\\left(t \\right)} + 2 \\theta_{EE}{\\left(t \\right)} \\right)} \\left(\\frac{d}{d t} \\theta_{EE}{\\left(t \\right)}\\right)^{2} - 32.79 \\sin{\\left(\\theta_{3}{\\left(t \\right)} \\right)} \\left(\\frac{d}{d t} \\theta_{3}{\\left(t \\right)}\\right)^{2} - 65.58 \\sin{\\left(\\theta_{3}{\\left(t \\right)} \\right)} \\frac{d}{d t} \\theta_{3}{\\left(t \\right)} \\frac{d}{d t} \\theta_{4}{\\left(t \\right)} - 65.58 \\sin{\\left(\\theta_{3}{\\left(t \\right)} \\right)} \\frac{d}{d t} \\theta_{3}{\\left(t \\right)} \\frac{d}{d t} \\theta_{EE}{\\left(t \\right)} - 41.3105908 \\sin{\\left(\\theta_{4}{\\left(t \\right)} \\right)} \\left(\\frac{d}{d t} \\theta_{4}{\\left(t \\right)}\\right)^{2} - 82.6211816 \\sin{\\left(\\theta_{4}{\\left(t \\right)} \\right)} \\frac{d}{d t} \\theta_{4}{\\left(t \\right)} \\frac{d}{d t} \\theta_{EE}{\\left(t \\right)} + 6.66133814775094 \\cdot 10^{-16} \\sin{\\left(2 \\theta_{EE}{\\left(t \\right)} \\right)} \\left(\\frac{d}{d t} \\theta_{EE}{\\left(t \\right)}\\right)^{2} + 92.94 \\cos{\\left(\\theta_{3}{\\left(t \\right)} + \\theta_{4}{\\left(t \\right)} \\right)} \\frac{d^{2}}{d t^{2}} \\theta_{3}{\\left(t \\right)} + 92.94 \\cos{\\left(\\theta_{3}{\\left(t \\right)} + \\theta_{4}{\\left(t \\right)} \\right)} \\frac{d^{2}}{d t^{2}} \\theta_{4}{\\left(t \\right)} + 185.88 \\cos{\\left(\\theta_{3}{\\left(t \\right)} + \\theta_{4}{\\left(t \\right)} \\right)} \\frac{d^{2}}{d t^{2}} \\theta_{EE}{\\left(t \\right)} - 2.22044604925031 \\cdot 10^{-16} \\cos{\\left(\\theta_{4}{\\left(t \\right)} - 2 \\theta_{EE}{\\left(t \\right)} \\right)} \\frac{d^{2}}{d t^{2}} \\theta_{4}{\\left(t \\right)} - 2.22044604925031 \\cdot 10^{-15} \\cos{\\left(\\theta_{4}{\\left(t \\right)} - 2 \\theta_{EE}{\\left(t \\right)} \\right)} \\frac{d^{2}}{d t^{2}} \\theta_{EE}{\\left(t \\right)} + 2.22044604925031 \\cdot 10^{-16} \\cos{\\left(\\theta_{4}{\\left(t \\right)} + 2 \\theta_{EE}{\\left(t \\right)} \\right)} \\frac{d^{2}}{d t^{2}} \\theta_{4}{\\left(t \\right)} + 2.22044604925031 \\cdot 10^{-15} \\cos{\\left(\\theta_{4}{\\left(t \\right)} + 2 \\theta_{EE}{\\left(t \\right)} \\right)} \\frac{d^{2}}{d t^{2}} \\theta_{EE}{\\left(t \\right)} - 3.12250225675825 \\cdot 10^{-16} \\cos{\\left(2 \\theta_{4}{\\left(t \\right)} - 2 \\theta_{EE}{\\left(t \\right)} \\right)} \\frac{d^{2}}{d t^{2}} \\theta_{4}{\\left(t \\right)} - 3.12250225675825 \\cdot 10^{-16} \\cos{\\left(2 \\theta_{4}{\\left(t \\right)} - 2 \\theta_{EE}{\\left(t \\right)} \\right)} \\frac{d^{2}}{d t^{2}} \\theta_{EE}{\\left(t \\right)} + 3.12250225675825 \\cdot 10^{-16} \\cos{\\left(2 \\theta_{4}{\\left(t \\right)} + 2 \\theta_{EE}{\\left(t \\right)} \\right)} \\frac{d^{2}}{d t^{2}} \\theta_{4}{\\left(t \\right)} + 3.12250225675825 \\cdot 10^{-16} \\cos{\\left(2 \\theta_{4}{\\left(t \\right)} + 2 \\theta_{EE}{\\left(t \\right)} \\right)} \\frac{d^{2}}{d t^{2}} \\theta_{EE}{\\left(t \\right)} + 32.79 \\cos{\\left(\\theta_{3}{\\left(t \\right)} \\right)} \\frac{d^{2}}{d t^{2}} \\theta_{3}{\\left(t \\right)} + 65.58 \\cos{\\left(\\theta_{3}{\\left(t \\right)} \\right)} \\frac{d^{2}}{d t^{2}} \\theta_{4}{\\left(t \\right)} + 65.58 \\cos{\\left(\\theta_{3}{\\left(t \\right)} \\right)} \\frac{d^{2}}{d t^{2}} \\theta_{EE}{\\left(t \\right)} + 41.3105908 \\cos{\\left(\\theta_{4}{\\left(t \\right)} \\right)} \\frac{d^{2}}{d t^{2}} \\theta_{4}{\\left(t \\right)} + 82.6211816 \\cos{\\left(\\theta_{4}{\\left(t \\right)} \\right)} \\frac{d^{2}}{d t^{2}} \\theta_{EE}{\\left(t \\right)} + 75.0 \\frac{d^{2}}{d t^{2}} \\theta_{3}{\\left(t \\right)} + 89.4552529 \\frac{d^{2}}{d t^{2}} \\theta_{4}{\\left(t \\right)} + 209.4253029 \\frac{d^{2}}{d t^{2}} \\theta_{EE}{\\left(t \\right)}\\\\6.6673 g \\cos{\\left(\\theta_{4}{\\left(t \\right)} + \\theta_{EE}{\\left(t \\right)} \\right)} + 15.0 g \\cos{\\left(\\theta_{3}{\\left(t \\right)} + \\theta_{4}{\\left(t \\right)} + \\theta_{EE}{\\left(t \\right)} \\right)} + 92.94 \\sin{\\left(\\theta_{3}{\\left(t \\right)} + \\theta_{4}{\\left(t \\right)} \\right)} \\left(\\frac{d}{d t} \\theta_{EE}{\\left(t \\right)}\\right)^{2} - 32.79 \\sin{\\left(\\theta_{3}{\\left(t \\right)} \\right)} \\left(\\frac{d}{d t} \\theta_{3}{\\left(t \\right)}\\right)^{2} - 65.58 \\sin{\\left(\\theta_{3}{\\left(t \\right)} \\right)} \\frac{d}{d t} \\theta_{3}{\\left(t \\right)} \\frac{d}{d t} \\theta_{4}{\\left(t \\right)} - 65.58 \\sin{\\left(\\theta_{3}{\\left(t \\right)} \\right)} \\frac{d}{d t} \\theta_{3}{\\left(t \\right)} \\frac{d}{d t} \\theta_{EE}{\\left(t \\right)} + 41.3105908 \\sin{\\left(\\theta_{4}{\\left(t \\right)} \\right)} \\left(\\frac{d}{d t} \\theta_{EE}{\\left(t \\right)}\\right)^{2} + 92.94 \\cos{\\left(\\theta_{3}{\\left(t \\right)} + \\theta_{4}{\\left(t \\right)} \\right)} \\frac{d^{2}}{d t^{2}} \\theta_{EE}{\\left(t \\right)} + 32.79 \\cos{\\left(\\theta_{3}{\\left(t \\right)} \\right)} \\frac{d^{2}}{d t^{2}} \\theta_{3}{\\left(t \\right)} + 65.58 \\cos{\\left(\\theta_{3}{\\left(t \\right)} \\right)} \\frac{d^{2}}{d t^{2}} \\theta_{4}{\\left(t \\right)} + 65.58 \\cos{\\left(\\theta_{3}{\\left(t \\right)} \\right)} \\frac{d^{2}}{d t^{2}} \\theta_{EE}{\\left(t \\right)} + 41.3105908 \\cos{\\left(\\theta_{4}{\\left(t \\right)} \\right)} \\frac{d^{2}}{d t^{2}} \\theta_{EE}{\\left(t \\right)} + 75.0 \\frac{d^{2}}{d t^{2}} \\theta_{3}{\\left(t \\right)} + 89.4552529 \\frac{d^{2}}{d t^{2}} \\theta_{4}{\\left(t \\right)} + 89.4552529 \\frac{d^{2}}{d t^{2}} \\theta_{EE}{\\left(t \\right)}\\\\15.0 g \\cos{\\left(\\theta_{3}{\\left(t \\right)} + \\theta_{4}{\\left(t \\right)} + \\theta_{EE}{\\left(t \\right)} \\right)} + 92.94 \\sin{\\left(\\theta_{3}{\\left(t \\right)} + \\theta_{4}{\\left(t \\right)} \\right)} \\left(\\frac{d}{d t} \\theta_{EE}{\\left(t \\right)}\\right)^{2} + 32.79 \\sin{\\left(\\theta_{3}{\\left(t \\right)} \\right)} \\left(\\frac{d}{d t} \\theta_{4}{\\left(t \\right)}\\right)^{2} + 65.58 \\sin{\\left(\\theta_{3}{\\left(t \\right)} \\right)} \\frac{d}{d t} \\theta_{4}{\\left(t \\right)} \\frac{d}{d t} \\theta_{EE}{\\left(t \\right)} + 32.79 \\sin{\\left(\\theta_{3}{\\left(t \\right)} \\right)} \\left(\\frac{d}{d t} \\theta_{EE}{\\left(t \\right)}\\right)^{2} + 92.94 \\cos{\\left(\\theta_{3}{\\left(t \\right)} + \\theta_{4}{\\left(t \\right)} \\right)} \\frac{d^{2}}{d t^{2}} \\theta_{EE}{\\left(t \\right)} + 32.79 \\cos{\\left(\\theta_{3}{\\left(t \\right)} \\right)} \\frac{d^{2}}{d t^{2}} \\theta_{4}{\\left(t \\right)} + 32.79 \\cos{\\left(\\theta_{3}{\\left(t \\right)} \\right)} \\frac{d^{2}}{d t^{2}} \\theta_{EE}{\\left(t \\right)} + 75.0 \\frac{d^{2}}{d t^{2}} \\theta_{3}{\\left(t \\right)} + 75.0 \\frac{d^{2}}{d t^{2}} \\theta_{4}{\\left(t \\right)} + 75.0 \\frac{d^{2}}{d t^{2}} \\theta_{EE}{\\left(t \\right)}\\end{matrix}\\right]$"
      ],
      "text/plain": [
       "<IPython.core.display.Math object>"
      ]
     },
     "metadata": {},
     "output_type": "display_data"
    }
   ],
   "source": [
    "display(Math(sp.latex(tau)))"
   ]
  },
  {
   "cell_type": "code",
   "execution_count": null,
   "metadata": {},
   "outputs": [],
   "source": [
    "L2_Angles = pd.read_excel(\"L2_Angles.xlsx\")\n",
    "L2_time = L2_Angles['Time [s]']\n",
    "L2_theta = L2_Angles['Theta [rad]']"
   ]
  }
 ],
 "metadata": {
  "kernelspec": {
   "display_name": "Python 3",
   "language": "python",
   "name": "python3"
  },
  "language_info": {
   "codemirror_mode": {
    "name": "ipython",
    "version": 3
   },
   "file_extension": ".py",
   "mimetype": "text/x-python",
   "name": "python",
   "nbconvert_exporter": "python",
   "pygments_lexer": "ipython3",
   "version": "3.10.11"
  }
 },
 "nbformat": 4,
 "nbformat_minor": 2
}
